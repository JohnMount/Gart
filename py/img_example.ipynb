{
 "cells": [
  {
   "cell_type": "markdown",
   "metadata": {},
   "source": [
    "Example of genetic art code porting to Python."
   ]
  },
  {
   "cell_type": "code",
   "execution_count": 1,
   "metadata": {},
   "outputs": [],
   "source": [
    "\n",
    "\n",
    "import numpy as np\n",
    "\n",
    "from quaternion import Quaternions\n",
    "from op_map import formula_to_op_tree, OpDescr\n",
    "\n"
   ]
  },
  {
   "cell_type": "code",
   "execution_count": 2,
   "metadata": {},
   "outputs": [],
   "source": [
    "# define image shape\n",
    "height = 300\n",
    "width = 300\n",
    "depth = 1\n",
    "img_shape = (width, height, 1)"
   ]
  },
  {
   "cell_type": "code",
   "execution_count": null,
   "metadata": {},
   "outputs": [],
   "source": []
  },
  {
   "cell_type": "code",
   "execution_count": 3,
   "metadata": {},
   "outputs": [],
   "source": [
    "formula_str = \"( A2 ( mod golden x+iy ) ( /( +( +( A1 j y+k ) y+k ) y+k ) x+iy ) )\""
   ]
  },
  {
   "cell_type": "code",
   "execution_count": 4,
   "metadata": {},
   "outputs": [
    {
     "data": {
      "text/plain": [
       "(OpDescr(name='A2', degree=2, call_str='qaut2(a, b)', call_name='qaut2', depends_on_coords=False),\n",
       " (OpDescr(name='mod', degree=2, call_str='qmod(a, b)', call_name='qmod', depends_on_coords=False),\n",
       "  OpDescr(name='golden', degree=0, call_str='qc5()', call_name='qc5', depends_on_coords=False),\n",
       "  OpDescr(name='x_iy', degree=0, call_str='qcxy(x, y, z)', call_name='qcxy', depends_on_coords=True)),\n",
       " (OpDescr(name='/', degree=2, call_str='qdiv(a, b)', call_name='qdiv', depends_on_coords=False),\n",
       "  (OpDescr(name='+', degree=2, call_str='qplus(a, b)', call_name='qplus', depends_on_coords=False),\n",
       "   (OpDescr(name='+', degree=2, call_str='qplus(a, b)', call_name='qplus', depends_on_coords=False),\n",
       "    (OpDescr(name='A1', degree=2, call_str='qaut1(a, b)', call_name='qaut1', depends_on_coords=False),\n",
       "     OpDescr(name='j', degree=0, call_str='qc3()', call_name='qc3', depends_on_coords=False),\n",
       "     OpDescr(name='y_k', degree=0, call_str='qcy1(x, y, z)', call_name='qcy1', depends_on_coords=True)),\n",
       "    OpDescr(name='y_k', degree=0, call_str='qcy1(x, y, z)', call_name='qcy1', depends_on_coords=True)),\n",
       "   OpDescr(name='y_k', degree=0, call_str='qcy1(x, y, z)', call_name='qcy1', depends_on_coords=True)),\n",
       "  OpDescr(name='x_iy', degree=0, call_str='qcxy(x, y, z)', call_name='qcxy', depends_on_coords=True)))"
      ]
     },
     "execution_count": 4,
     "metadata": {},
     "output_type": "execute_result"
    }
   ],
   "source": [
    "op_tree = formula_to_op_tree(formula_str)\n",
    "\n",
    "op_tree"
   ]
  },
  {
   "cell_type": "code",
   "execution_count": 5,
   "metadata": {},
   "outputs": [
    {
     "data": {
      "text/plain": [
       "OpDescr(name='A2', degree=2, call_str='qaut2(a, b)', call_name='qaut2', depends_on_coords=False)"
      ]
     },
     "execution_count": 5,
     "metadata": {},
     "output_type": "execute_result"
    }
   ],
   "source": [
    "op_tree[0]"
   ]
  },
  {
   "cell_type": "code",
   "execution_count": 6,
   "metadata": {},
   "outputs": [],
   "source": [
    "# build image tensors\n",
    "x_vec = np.linspace(start=0, stop=1, num=width)\n",
    "y_vec = np.linspace(start=0, stop=1, num=height)\n",
    "z_vec = np.zeros(1)\n",
    "\n",
    "x = np.zeros(img_shape)\n",
    "y = np.zeros(img_shape)\n",
    "z = np.zeros(img_shape)\n",
    "\n",
    "for xi in range(width):\n",
    "    for yi in range(height):\n",
    "        for zi in range(depth):\n",
    "            x[xi][yi][zi] = x_vec[xi]\n",
    "            y[xi][yi][zi] = y_vec[yi]\n",
    "            z[xi][yi][zi] = z_vec[zi]"
   ]
  },
  {
   "cell_type": "code",
   "execution_count": 7,
   "metadata": {},
   "outputs": [],
   "source": [
    "def r_dispatch(nd) -> Quaternions:\n",
    "    \"\"\"Evaluate formula over a tree\"\"\"\n",
    "    q = Quaternions(img_shape)\n",
    "    if isinstance(nd, OpDescr):\n",
    "        method = getattr(q, nd.call_name)\n",
    "        if nd.depends_on_coords:\n",
    "            method(x, y, z)\n",
    "        else:\n",
    "            method()\n",
    "    else:\n",
    "        assert isinstance(nd[0], OpDescr)\n",
    "        method = getattr(q, nd[0].call_name)\n",
    "        args = [r_dispatch(nd[i]) for i in range(1, len(nd))]\n",
    "        assert len(args) == nd[0].degree\n",
    "        method(*args)\n",
    "    return q\n",
    "    \n",
    "\n"
   ]
  },
  {
   "cell_type": "code",
   "execution_count": 8,
   "metadata": {},
   "outputs": [],
   "source": [
    "res = r_dispatch(op_tree)"
   ]
  },
  {
   "cell_type": "code",
   "execution_count": 9,
   "metadata": {},
   "outputs": [
    {
     "data": {
      "text/plain": [
       "array([[[ 0.00000000e+00],\n",
       "        [ 0.00000000e+00],\n",
       "        [ 0.00000000e+00],\n",
       "        ...,\n",
       "        [ 0.00000000e+00],\n",
       "        [ 0.00000000e+00],\n",
       "        [ 0.00000000e+00]],\n",
       "\n",
       "       [[-2.99000000e+02],\n",
       "        [ 1.79747006e+02],\n",
       "        [ 3.39304475e+01],\n",
       "        ...,\n",
       "        [-3.99144332e-02],\n",
       "        [-3.91207849e-02],\n",
       "        [-3.83551306e-02]],\n",
       "\n",
       "       [[-1.49500000e+02],\n",
       "        [ 8.55847684e+01],\n",
       "        [ 8.24713944e+01],\n",
       "        ...,\n",
       "        [-7.97406983e-02],\n",
       "        [-7.81580430e-02],\n",
       "        [-7.66310562e-02]],\n",
       "\n",
       "       ...,\n",
       "\n",
       "       [[-1.00673401e+00],\n",
       "        [ 4.40718602e-01],\n",
       "        [ 4.45392568e-01],\n",
       "        ...,\n",
       "        [ 6.71722273e-01],\n",
       "        [ 6.72110636e-01],\n",
       "        [ 6.72469376e-01]],\n",
       "\n",
       "       [[-1.00335570e+00],\n",
       "        [ 4.46326488e-01],\n",
       "        [ 4.50982883e-01],\n",
       "        ...,\n",
       "        [ 6.70908660e-01],\n",
       "        [ 6.71292121e-01],\n",
       "        [ 6.71646051e-01]],\n",
       "\n",
       "       [[-1.00000000e+00],\n",
       "        [ 4.51856487e-01],\n",
       "        [ 4.56494965e-01],\n",
       "        ...,\n",
       "        [ 6.70092605e-01],\n",
       "        [ 6.70471219e-01],\n",
       "        [ 6.70820393e-01]]])"
      ]
     },
     "execution_count": 9,
     "metadata": {},
     "output_type": "execute_result"
    }
   ],
   "source": [
    "res.k"
   ]
  }
 ],
 "metadata": {
  "kernelspec": {
   "display_name": "a_taste_of_data_science",
   "language": "python",
   "name": "python3"
  },
  "language_info": {
   "codemirror_mode": {
    "name": "ipython",
    "version": 3
   },
   "file_extension": ".py",
   "mimetype": "text/x-python",
   "name": "python",
   "nbconvert_exporter": "python",
   "pygments_lexer": "ipython3",
   "version": "3.11.8"
  }
 },
 "nbformat": 4,
 "nbformat_minor": 2
}
