{
 "cells": [
  {
   "cell_type": "markdown",
   "metadata": {},
   "source": [
    "Example of genetic art code porting to Python."
   ]
  },
  {
   "cell_type": "code",
   "execution_count": 1,
   "metadata": {},
   "outputs": [],
   "source": [
    "\n",
    "\n",
    "import numpy as np\n",
    "\n",
    "from quaternion import Quaternions\n",
    "from op_map import formula_to_op_tree, OpDescr, QOP_tree, r_dispatch\n",
    "\n"
   ]
  },
  {
   "cell_type": "code",
   "execution_count": 2,
   "metadata": {},
   "outputs": [],
   "source": [
    "# define image shape\n",
    "height = 300\n",
    "width = 300\n",
    "depth = 1\n",
    "img_shape = (width, height, 1)"
   ]
  },
  {
   "cell_type": "code",
   "execution_count": null,
   "metadata": {},
   "outputs": [],
   "source": []
  },
  {
   "cell_type": "code",
   "execution_count": 3,
   "metadata": {},
   "outputs": [],
   "source": [
    "formula_str = \"( A2 ( mod golden x+iy ) ( /( +( +( A1 j y+k ) y+k ) y+k ) x+iy ) )\""
   ]
  },
  {
   "cell_type": "code",
   "execution_count": 4,
   "metadata": {},
   "outputs": [
    {
     "data": {
      "text/plain": [
       "(OpDescr(name='A2', degree=2, call_str='qaut2(a, b)', call_name='qaut2', depends_on_coords=False),\n",
       " (OpDescr(name='mod', degree=2, call_str='qmod(a, b)', call_name='qmod', depends_on_coords=False),\n",
       "  OpDescr(name='golden', degree=0, call_str='qc5()', call_name='qc5', depends_on_coords=False),\n",
       "  OpDescr(name='x_iy', degree=0, call_str='qcxy(x, y, z)', call_name='qcxy', depends_on_coords=True)),\n",
       " (OpDescr(name='/', degree=2, call_str='qdiv(a, b)', call_name='qdiv', depends_on_coords=False),\n",
       "  (OpDescr(name='+', degree=2, call_str='qplus(a, b)', call_name='qplus', depends_on_coords=False),\n",
       "   (OpDescr(name='+', degree=2, call_str='qplus(a, b)', call_name='qplus', depends_on_coords=False),\n",
       "    (OpDescr(name='A1', degree=2, call_str='qaut1(a, b)', call_name='qaut1', depends_on_coords=False),\n",
       "     OpDescr(name='j', degree=0, call_str='qc3()', call_name='qc3', depends_on_coords=False),\n",
       "     OpDescr(name='y_k', degree=0, call_str='qcy1(x, y, z)', call_name='qcy1', depends_on_coords=True)),\n",
       "    OpDescr(name='y_k', degree=0, call_str='qcy1(x, y, z)', call_name='qcy1', depends_on_coords=True)),\n",
       "   OpDescr(name='y_k', degree=0, call_str='qcy1(x, y, z)', call_name='qcy1', depends_on_coords=True)),\n",
       "  OpDescr(name='x_iy', degree=0, call_str='qcxy(x, y, z)', call_name='qcxy', depends_on_coords=True)))"
      ]
     },
     "execution_count": 4,
     "metadata": {},
     "output_type": "execute_result"
    }
   ],
   "source": [
    "op_tree = formula_to_op_tree(formula_str)\n",
    "\n",
    "op_tree"
   ]
  },
  {
   "cell_type": "code",
   "execution_count": 5,
   "metadata": {},
   "outputs": [
    {
     "data": {
      "text/plain": [
       "OpDescr(name='A2', degree=2, call_str='qaut2(a, b)', call_name='qaut2', depends_on_coords=False)"
      ]
     },
     "execution_count": 5,
     "metadata": {},
     "output_type": "execute_result"
    }
   ],
   "source": [
    "op_tree[0]"
   ]
  },
  {
   "cell_type": "code",
   "execution_count": 6,
   "metadata": {},
   "outputs": [],
   "source": [
    "# build image tensors\n",
    "x_vec = np.linspace(start=0, stop=1, num=width)\n",
    "y_vec = np.linspace(start=0, stop=1, num=height)\n",
    "z_vec = np.zeros(1)\n",
    "\n",
    "x = np.zeros(img_shape)\n",
    "y = np.zeros(img_shape)\n",
    "z = np.zeros(img_shape)\n",
    "\n",
    "for xi in range(width):\n",
    "    for yi in range(height):\n",
    "        for zi in range(depth):\n",
    "            x[xi][yi][zi] = x_vec[xi]\n",
    "            y[xi][yi][zi] = y_vec[yi]\n",
    "            z[xi][yi][zi] = z_vec[zi]"
   ]
  },
  {
   "cell_type": "code",
   "execution_count": null,
   "metadata": {},
   "outputs": [],
   "source": []
  },
  {
   "cell_type": "code",
   "execution_count": null,
   "metadata": {},
   "outputs": [],
   "source": [
    "\n",
    "    \n",
    "\n"
   ]
  },
  {
   "cell_type": "code",
   "execution_count": 7,
   "metadata": {},
   "outputs": [],
   "source": [
    "res = r_dispatch(op_tree, img_shape=img_shape)"
   ]
  },
  {
   "cell_type": "code",
   "execution_count": 8,
   "metadata": {},
   "outputs": [
    {
     "data": {
      "text/plain": [
       "array([[[0.],\n",
       "        [0.],\n",
       "        [0.],\n",
       "        ...,\n",
       "        [0.],\n",
       "        [0.],\n",
       "        [0.]],\n",
       "\n",
       "       [[0.],\n",
       "        [0.],\n",
       "        [0.],\n",
       "        ...,\n",
       "        [0.],\n",
       "        [0.],\n",
       "        [0.]],\n",
       "\n",
       "       [[0.],\n",
       "        [0.],\n",
       "        [0.],\n",
       "        ...,\n",
       "        [0.],\n",
       "        [0.],\n",
       "        [0.]],\n",
       "\n",
       "       ...,\n",
       "\n",
       "       [[0.],\n",
       "        [0.],\n",
       "        [0.],\n",
       "        ...,\n",
       "        [0.],\n",
       "        [0.],\n",
       "        [0.]],\n",
       "\n",
       "       [[0.],\n",
       "        [0.],\n",
       "        [0.],\n",
       "        ...,\n",
       "        [0.],\n",
       "        [0.],\n",
       "        [0.]],\n",
       "\n",
       "       [[0.],\n",
       "        [0.],\n",
       "        [0.],\n",
       "        ...,\n",
       "        [0.],\n",
       "        [0.],\n",
       "        [0.]]])"
      ]
     },
     "execution_count": 8,
     "metadata": {},
     "output_type": "execute_result"
    }
   ],
   "source": [
    "res.q.e"
   ]
  },
  {
   "cell_type": "code",
   "execution_count": 9,
   "metadata": {},
   "outputs": [],
   "source": [
    "res_q = res.eval_tree(x=x, y=y, z=z)"
   ]
  },
  {
   "cell_type": "code",
   "execution_count": 10,
   "metadata": {},
   "outputs": [
    {
     "data": {
      "text/plain": [
       "array([[[0.        ],\n",
       "        [0.        ],\n",
       "        [0.        ],\n",
       "        ...,\n",
       "        [0.        ],\n",
       "        [0.        ],\n",
       "        [0.        ]],\n",
       "\n",
       "       [[0.        ],\n",
       "        [1.5       ],\n",
       "        [1.2       ],\n",
       "        ...,\n",
       "        [0.0101009 ],\n",
       "        [0.010067  ],\n",
       "        [0.01003333]],\n",
       "\n",
       "       [[0.        ],\n",
       "        [1.2       ],\n",
       "        [1.5       ],\n",
       "        ...,\n",
       "        [0.0202011 ],\n",
       "        [0.02013332],\n",
       "        [0.02006599]],\n",
       "\n",
       "       ...,\n",
       "\n",
       "       [[0.        ],\n",
       "        [0.0101009 ],\n",
       "        [0.0202011 ],\n",
       "        ...,\n",
       "        [1.5       ],\n",
       "        [1.49999153],\n",
       "        [1.49996622]],\n",
       "\n",
       "       [[0.        ],\n",
       "        [0.010067  ],\n",
       "        [0.02013332],\n",
       "        ...,\n",
       "        [1.49999153],\n",
       "        [1.5       ],\n",
       "        [1.49999158]],\n",
       "\n",
       "       [[0.        ],\n",
       "        [0.01003333],\n",
       "        [0.02006599],\n",
       "        ...,\n",
       "        [1.49996622],\n",
       "        [1.49999158],\n",
       "        [1.5       ]]])"
      ]
     },
     "execution_count": 10,
     "metadata": {},
     "output_type": "execute_result"
    }
   ],
   "source": [
    "res_q.e"
   ]
  },
  {
   "cell_type": "code",
   "execution_count": 11,
   "metadata": {},
   "outputs": [
    {
     "data": {
      "text/plain": [
       "array([[[0.        ],\n",
       "        [0.        ],\n",
       "        [0.        ],\n",
       "        ...,\n",
       "        [0.        ],\n",
       "        [0.        ],\n",
       "        [0.        ]],\n",
       "\n",
       "       [[0.        ],\n",
       "        [1.5       ],\n",
       "        [1.2       ],\n",
       "        ...,\n",
       "        [0.0101009 ],\n",
       "        [0.010067  ],\n",
       "        [0.01003333]],\n",
       "\n",
       "       [[0.        ],\n",
       "        [1.2       ],\n",
       "        [1.5       ],\n",
       "        ...,\n",
       "        [0.0202011 ],\n",
       "        [0.02013332],\n",
       "        [0.02006599]],\n",
       "\n",
       "       ...,\n",
       "\n",
       "       [[0.        ],\n",
       "        [0.0101009 ],\n",
       "        [0.0202011 ],\n",
       "        ...,\n",
       "        [1.5       ],\n",
       "        [1.49999153],\n",
       "        [1.49996622]],\n",
       "\n",
       "       [[0.        ],\n",
       "        [0.010067  ],\n",
       "        [0.02013332],\n",
       "        ...,\n",
       "        [1.49999153],\n",
       "        [1.5       ],\n",
       "        [1.49999158]],\n",
       "\n",
       "       [[0.        ],\n",
       "        [0.01003333],\n",
       "        [0.02006599],\n",
       "        ...,\n",
       "        [1.49996622],\n",
       "        [1.49999158],\n",
       "        [1.5       ]]])"
      ]
     },
     "execution_count": 11,
     "metadata": {},
     "output_type": "execute_result"
    }
   ],
   "source": [
    "res.q.e"
   ]
  }
 ],
 "metadata": {
  "kernelspec": {
   "display_name": "a_taste_of_data_science",
   "language": "python",
   "name": "python3"
  },
  "language_info": {
   "codemirror_mode": {
    "name": "ipython",
    "version": 3
   },
   "file_extension": ".py",
   "mimetype": "text/x-python",
   "name": "python",
   "nbconvert_exporter": "python",
   "pygments_lexer": "ipython3",
   "version": "3.11.8"
  }
 },
 "nbformat": 4,
 "nbformat_minor": 2
}
